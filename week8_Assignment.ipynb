{
 "cells": [
  {
   "cell_type": "markdown",
   "metadata": {
    "colab_type": "text",
    "id": "VgHwSljtbl_-"
   },
   "source": [
    "Porto Seguro's Safe Driver Prediction\n",
    "===="
   ]
  },
  {
   "cell_type": "markdown",
   "metadata": {
    "colab_type": "text",
    "id": "qgXAC2BZbmAB"
   },
   "source": [
    "## Introduction\n",
    "[This competition](https://www.kaggle.com/c/porto-seguro-safe-driver-prediction/data) is hosted by the third largest insurance company in Brazil: Porto Seguro with the task of predicting the probability that a driver will initiate an insurance claim in the next year.\n",
    "\n",
    "In the train data, features that belong to similar groupings are tagged as such in the feature names (e.g., ind, reg, car, calc). In addition, feature names include the postfix bin to indicate binary features and cat to indicate categorical features. Features without these designations are either continuous or ordinal. **Values of -1 indicate that the feature was missing** from the observation. The target columns signifies whether or not a claim was filed for that policy holder\n",
    "\n",
    "train.csv contains the training data, where each row corresponds to a policy holder, and the target columns signifies that a claim was filed.\n"
   ]
  },
  {
   "cell_type": "code",
   "execution_count": 1,
   "metadata": {
    "colab": {},
    "colab_type": "code",
    "id": "FZMSgXWPbmAC"
   },
   "outputs": [],
   "source": [
    "# Import libraries\n",
    "# Your code here\n",
    "import pandas as pd\n",
    "import numpy as np\n",
    "import matplotlib.pyplot as plt\n",
    "import seaborn as sns\n",
    "import warnings\n",
    "warnings.filterwarnings('ignore')"
   ]
  },
  {
   "cell_type": "code",
   "execution_count": 2,
   "metadata": {
    "colab": {},
    "colab_type": "code",
    "id": "OBQUEKpPbmAF"
   },
   "outputs": [],
   "source": [
    "# Read csv file and take a look at it\n",
    "train =pd.read_csv('train.csv')"
   ]
  },
  {
   "cell_type": "code",
   "execution_count": 3,
   "metadata": {
    "colab": {
     "base_uri": "https://localhost:8080/",
     "height": 34
    },
    "colab_type": "code",
    "executionInfo": {
     "elapsed": 690,
     "status": "ok",
     "timestamp": 1567922094944,
     "user": {
      "displayName": "Tung Do Nguyen Thanh",
      "photoUrl": "",
      "userId": "12000981998058526005"
     },
     "user_tz": -420
    },
    "id": "WJBWQtqfbmAH",
    "outputId": "151c7b16-3742-40f1-95f0-a69c8b5664ef"
   },
   "outputs": [
    {
     "name": "stdout",
     "output_type": "stream",
     "text": [
      "The train dataset contains 595212 rows and 59 columns\n"
     ]
    }
   ],
   "source": [
    "# Taking a look at how many rows and columns the train dataset contains\n",
    "rows = train.shape[0] # Your code here\n",
    "columns = train.shape[1] # Your code here\n",
    "print(\"The train dataset contains {} rows and {} columns\".format(rows, columns))"
   ]
  },
  {
   "cell_type": "markdown",
   "metadata": {
    "colab_type": "text",
    "id": "nfxRoufEbmAK"
   },
   "source": [
    "## 1. Data Quality Checks"
   ]
  },
  {
   "cell_type": "markdown",
   "metadata": {
    "colab_type": "text",
    "id": "UqkwqWEHbmAK"
   },
   "source": [
    "### Null or missing values check\n",
    "Let check whether there are any null values in the train dataset as follows:"
   ]
  },
  {
   "cell_type": "code",
   "execution_count": 4,
   "metadata": {
    "colab": {
     "base_uri": "https://localhost:8080/",
     "height": 34
    },
    "colab_type": "code",
    "executionInfo": {
     "elapsed": 729,
     "status": "ok",
     "timestamp": 1567922097643,
     "user": {
      "displayName": "Tung Do Nguyen Thanh",
      "photoUrl": "",
      "userId": "12000981998058526005"
     },
     "user_tz": -420
    },
    "id": "xhtbVOnDbmAL",
    "outputId": "20397e93-0162-4195-b673-4ac31f7ecd6a"
   },
   "outputs": [
    {
     "data": {
      "text/plain": [
       "False"
      ]
     },
     "execution_count": 4,
     "metadata": {},
     "output_type": "execute_result"
    }
   ],
   "source": [
    "# Your code here\n",
    "train.isnull().values.any()"
   ]
  },
  {
   "cell_type": "markdown",
   "metadata": {
    "colab_type": "text",
    "id": "imm16s43bmAN"
   },
   "source": [
    "**Note:** Our null values check returns False but however, this does not really mean that this case has been closed as the data is also described as *\"Values of -1 indicate that the feature was missing from the observation\"*. Therefore I take it that Porto Seguro has simply conducted a blanket replacement of all null values in the data with the value of -1. Let us now inspect if there where any missing values in the data."
   ]
  },
  {
   "cell_type": "markdown",
   "metadata": {
    "colab_type": "text",
    "id": "eAX1BnRMbmAN"
   },
   "source": [
    "Here we can see that which columns contained -1 in their values so we could easily for example make a blanket replacement of all -1 with nulls first as follows:"
   ]
  },
  {
   "cell_type": "code",
   "execution_count": 5,
   "metadata": {
    "colab": {},
    "colab_type": "code",
    "id": "MTHgotElbmAO"
   },
   "outputs": [],
   "source": [
    "train_copy = train.copy()\n",
    "train_copy = train_copy.replace(-1, np.NaN)"
   ]
  },
  {
   "cell_type": "markdown",
   "metadata": {
    "colab_type": "text",
    "id": "pM55IyXJbmAQ"
   },
   "source": [
    "We can use \"Missingno\" to visualize missing values in the dataset."
   ]
  },
  {
   "cell_type": "code",
   "execution_count": 7,
   "metadata": {
    "colab": {
     "base_uri": "https://localhost:8080/",
     "height": 939
    },
    "colab_type": "code",
    "executionInfo": {
     "elapsed": 5697,
     "status": "ok",
     "timestamp": 1567922106043,
     "user": {
      "displayName": "Tung Do Nguyen Thanh",
      "photoUrl": "",
      "userId": "12000981998058526005"
     },
     "user_tz": -420
    },
    "id": "SoQ0UoTwbmAR",
    "outputId": "6ca86336-dad5-4a0a-aef9-653e5b292796"
   },
   "outputs": [
    {
     "data": {
      "text/plain": [
       "<matplotlib.axes._subplots.AxesSubplot at 0x1085552d0>"
      ]
     },
     "execution_count": 7,
     "metadata": {},
     "output_type": "execute_result"
    },
    {
     "data": {
      "image/png": "[encoded data removed]",
      "text/plain": [
       "<Figure size 1440x1008 with 2 Axes>"
      ]
     },
     "metadata": {
      "needs_background": "light"
     },
     "output_type": "display_data"
    }
   ],
   "source": [
    "# If you don't have \"Missingno\" package, use this command to install\n",
    "# (Linux) conda install -c conda-forge missingno\n",
    "import missingno as msno\n",
    "\n",
    "msno.matrix(df=train_copy.iloc[:, 2:39], figsize=(20, 14), color=(0.42, 0.1, 0.05))"
   ]
  },
  {
   "cell_type": "code",
   "execution_count": 8,
   "metadata": {
    "colab": {
     "base_uri": "https://localhost:8080/",
     "height": 252
    },
    "colab_type": "code",
    "executionInfo": {
     "elapsed": 2476,
     "status": "ok",
     "timestamp": 1567922109149,
     "user": {
      "displayName": "Tung Do Nguyen Thanh",
      "photoUrl": "",
      "userId": "12000981998058526005"
     },
     "user_tz": -420
    },
    "id": "op1DnJggbmAU",
    "outputId": "b5cdb685-51fb-486e-cbdb-2d19ba507f55"
   },
   "outputs": [
    {
     "data": {
      "text/plain": [
       "ps_car_12             1\n",
       "ps_car_02_cat         5\n",
       "ps_car_11             5\n",
       "ps_ind_04_cat        83\n",
       "ps_car_01_cat       107\n",
       "ps_ind_02_cat       216\n",
       "ps_car_09_cat       569\n",
       "ps_ind_05_cat      5809\n",
       "ps_car_07_cat     11489\n",
       "ps_car_14         42620\n",
       "ps_reg_03        107772\n",
       "ps_car_05_cat    266551\n",
       "ps_car_03_cat    411231\n",
       "dtype: int64"
      ]
     },
     "execution_count": 8,
     "metadata": {},
     "output_type": "execute_result"
    }
   ],
   "source": [
    "# List null columns name\n",
    "# Hint: isnull()\n",
    "# Your code here\n",
    "listNullColumn=train[train==-1].count()\n",
    "listNullColumn[listNullColumn>0].sort_values()"
   ]
  },
  {
   "cell_type": "markdown",
   "metadata": {
    "colab_type": "text",
    "id": "a1VSvVyPbmAW"
   },
   "source": [
    "#### Target variable inspection"
   ]
  },
  {
   "cell_type": "code",
   "execution_count": 9,
   "metadata": {
    "colab": {
     "base_uri": "https://localhost:8080/",
     "height": 300
    },
    "colab_type": "code",
    "executionInfo": {
     "elapsed": 1331,
     "status": "ok",
     "timestamp": 1567922110646,
     "user": {
      "displayName": "Tung Do Nguyen Thanh",
      "photoUrl": "",
      "userId": "12000981998058526005"
     },
     "user_tz": -420
    },
    "id": "at74TeKlbmAX",
    "outputId": "7815e9f0-419b-49ef-887f-45eab6f797bc"
   },
   "outputs": [
    {
     "data": {
      "text/plain": [
       "<matplotlib.axes._subplots.AxesSubplot at 0x12dc6b210>"
      ]
     },
     "execution_count": 9,
     "metadata": {},
     "output_type": "execute_result"
    },
    {
     "data": {
      "image/png": "[encoded data removed]",
      "text/plain": [
       "<Figure size 432x288 with 1 Axes>"
      ]
     },
     "metadata": {
      "needs_background": "light"
     },
     "output_type": "display_data"
    }
   ],
   "source": [
    "# Using countplot to represent target\n",
    "# Your code here\n",
    "sns.countplot(train['target'])"
   ]
  },
  {
   "cell_type": "markdown",
   "metadata": {
    "colab_type": "text",
    "id": "eCDDCvb7bmAZ"
   },
   "source": [
    "## 2. Feature inspection and filtering"
   ]
  },
  {
   "cell_type": "markdown",
   "metadata": {
    "colab_type": "text",
    "id": "cynNYABNbmAa"
   },
   "source": [
    "### Correlation plots\n",
    "As a starter, let us generate some linear correlation plots just to have a quick look at how a feature is linearly correlated to the next and perhaps start gaining some insights from here. At this juncture, I will use the seaborn statistical visualisation package to plot a heatmap of the correlation values. Conveniently, Pandas dataframes come with the corr() method inbuilt, which calculates the Pearson correlation. Also as convenient is Seaborn's way of invoking a correlation plot. Just literally the word \"heatmap\""
   ]
  },
  {
   "cell_type": "markdown",
   "metadata": {
    "colab_type": "text",
    "id": "RXbHPUkxbmAa"
   },
   "source": [
    "#### Correlation of float features"
   ]
  },
  {
   "cell_type": "code",
   "execution_count": 10,
   "metadata": {
    "colab": {},
    "colab_type": "code",
    "id": "HSSjoaTLbmAb"
   },
   "outputs": [],
   "source": [
    "train_float = train.select_dtypes(include=['float64'])\n",
    "train_int = train.select_dtypes(include=['int64'])"
   ]
  },
  {
   "cell_type": "code",
   "execution_count": 11,
   "metadata": {
    "colab": {
     "base_uri": "https://localhost:8080/",
     "height": 752
    },
    "colab_type": "code",
    "executionInfo": {
     "elapsed": 1479,
     "status": "ok",
     "timestamp": 1567922114656,
     "user": {
      "displayName": "Tung Do Nguyen Thanh",
      "photoUrl": "",
      "userId": "12000981998058526005"
     },
     "user_tz": -420
    },
    "id": "OTpeDpqJbmAc",
    "outputId": "7ea8ebe2-0b81-4679-ac44-35c248cfc939"
   },
   "outputs": [
    {
     "data": {
      "image/png": "[encoded data removed]",
      "text/plain": [
       "<Figure size 1152x864 with 2 Axes>"
      ]
     },
     "metadata": {
      "needs_background": "light"
     },
     "output_type": "display_data"
    }
   ],
   "source": [
    "colormap = plt.cm.magma\n",
    "plt.figure(figsize=(16, 12))\n",
    "plt.title(\"Paerson correlation of continuous features\", y=1.05, size=15)\n",
    "sns.heatmap(train_float.corr(), linewidths=0.1, vmax=1.0, square=True,\n",
    "           cmap=colormap)\n",
    "plt.show()"
   ]
  },
  {
   "cell_type": "markdown",
   "metadata": {
    "colab_type": "text",
    "id": "djkVssDEbmAe"
   },
   "source": [
    "From the correlation plot, we can see that the majority of the features display zero or no correlation to one another. This is quite an interesting observation that will warrant our further investigation later down. For now, the paired features that display a positive linear correlation are listed as follows:\n",
    "\n",
    "(ps_reg_01, ps_reg_03)\n",
    "\n",
    "(ps_reg_02, ps_reg_03)\n",
    "\n",
    "(ps_car_12, ps_car_13)\n",
    "\n",
    "(ps_car_13, ps_car_15)"
   ]
  },
  {
   "cell_type": "markdown",
   "metadata": {
    "colab_type": "text",
    "id": "_qlX9d5JbmAf"
   },
   "source": [
    "### Correlation of integer features"
   ]
  },
  {
   "cell_type": "code",
   "execution_count": 12,
   "metadata": {
    "colab": {
     "base_uri": "https://localhost:8080/",
     "height": 952
    },
    "colab_type": "code",
    "executionInfo": {
     "elapsed": 7992,
     "status": "ok",
     "timestamp": 1567922124226,
     "user": {
      "displayName": "Tung Do Nguyen Thanh",
      "photoUrl": "",
      "userId": "12000981998058526005"
     },
     "user_tz": -420
    },
    "id": "MXaxdDz_bmAf",
    "outputId": "9879390a-45e4-4dff-e315-33b7770bff25"
   },
   "outputs": [
    {
     "data": {
      "image/png": "[encoded data removed]",
      "text/plain": [
       "<Figure size 1440x1080 with 2 Axes>"
      ]
     },
     "metadata": {
      "needs_background": "light"
     },
     "output_type": "display_data"
    }
   ],
   "source": [
    "# Your code here\n",
    "# Hint: correlation of train_int\n",
    "plt.figure(figsize=(20,15))\n",
    "sns.heatmap(train.corr(), linewidths=.5)\n",
    "plt.show()"
   ]
  },
  {
   "cell_type": "markdown",
   "metadata": {
    "colab_type": "text",
    "id": "N3XHPBSMbmAi"
   },
   "source": [
    "#### Which features have negatively correlation?\n",
    "Negatively correlated features : **Your answer here**"
   ]
  },
  {
   "cell_type": "markdown",
   "metadata": {
    "colab_type": "text",
    "id": "2jkDPmrYbmAj"
   },
   "source": [
    "### Binary features inspection\n",
    "Another aspect of the data that we may want to inspect would be the coulmns that only contain binary valeus, i.e where values take on only either of the two values 1 or 0. Proceeding, we store all columns that contain these binary values and then generate a vertical plotly bar plot of these binary values as follows:"
   ]
  },
  {
   "cell_type": "code",
   "execution_count": 13,
   "metadata": {
    "colab": {},
    "colab_type": "code",
    "id": "NTue5qpwbmAk"
   },
   "outputs": [],
   "source": [
    "bin_col = list(filter(lambda x: '_bin' in x, train.columns))\n",
    "bin_value_counts = train[bin_col].apply(pd.value_counts)"
   ]
  },
  {
   "cell_type": "code",
   "execution_count": 14,
   "metadata": {
    "colab": {
     "base_uri": "https://localhost:8080/",
     "height": 126
    },
    "colab_type": "code",
    "executionInfo": {
     "elapsed": 687,
     "status": "ok",
     "timestamp": 1567922129871,
     "user": {
      "displayName": "Tung Do Nguyen Thanh",
      "photoUrl": "",
      "userId": "12000981998058526005"
     },
     "user_tz": -420
    },
    "id": "yRz5LP4cbmAm",
    "outputId": "e1307004-06dc-47e7-dffa-824e35f957c1"
   },
   "outputs": [
    {
     "data": {
      "text/html": [
       "<div>\n",
       "<style scoped>\n",
       "    .dataframe tbody tr th:only-of-type {\n",
       "        vertical-align: middle;\n",
       "    }\n",
       "\n",
       "    .dataframe tbody tr th {\n",
       "        vertical-align: top;\n",
       "    }\n",
       "\n",
       "    .dataframe thead th {\n",
       "        text-align: right;\n",
       "    }\n",
       "</style>\n",
       "<table border=\"1\" class=\"dataframe\">\n",
       "  <thead>\n",
       "    <tr style=\"text-align: right;\">\n",
       "      <th></th>\n",
       "      <th>ps_ind_06_bin</th>\n",
       "      <th>ps_ind_07_bin</th>\n",
       "      <th>ps_ind_08_bin</th>\n",
       "      <th>ps_ind_09_bin</th>\n",
       "      <th>ps_ind_10_bin</th>\n",
       "      <th>ps_ind_11_bin</th>\n",
       "      <th>ps_ind_12_bin</th>\n",
       "      <th>ps_ind_13_bin</th>\n",
       "      <th>ps_ind_16_bin</th>\n",
       "      <th>ps_ind_17_bin</th>\n",
       "      <th>ps_ind_18_bin</th>\n",
       "      <th>ps_calc_15_bin</th>\n",
       "      <th>ps_calc_16_bin</th>\n",
       "      <th>ps_calc_17_bin</th>\n",
       "      <th>ps_calc_18_bin</th>\n",
       "      <th>ps_calc_19_bin</th>\n",
       "      <th>ps_calc_20_bin</th>\n",
       "    </tr>\n",
       "  </thead>\n",
       "  <tbody>\n",
       "    <tr>\n",
       "      <td>0</td>\n",
       "      <td>360852</td>\n",
       "      <td>442223</td>\n",
       "      <td>497644</td>\n",
       "      <td>484917</td>\n",
       "      <td>594990</td>\n",
       "      <td>594205</td>\n",
       "      <td>589594</td>\n",
       "      <td>594648</td>\n",
       "      <td>201882</td>\n",
       "      <td>523143</td>\n",
       "      <td>503879</td>\n",
       "      <td>522342</td>\n",
       "      <td>221514</td>\n",
       "      <td>265356</td>\n",
       "      <td>424278</td>\n",
       "      <td>387469</td>\n",
       "      <td>503955</td>\n",
       "    </tr>\n",
       "    <tr>\n",
       "      <td>1</td>\n",
       "      <td>234360</td>\n",
       "      <td>152989</td>\n",
       "      <td>97568</td>\n",
       "      <td>110295</td>\n",
       "      <td>222</td>\n",
       "      <td>1007</td>\n",
       "      <td>5618</td>\n",
       "      <td>564</td>\n",
       "      <td>393330</td>\n",
       "      <td>72069</td>\n",
       "      <td>91333</td>\n",
       "      <td>72870</td>\n",
       "      <td>373698</td>\n",
       "      <td>329856</td>\n",
       "      <td>170934</td>\n",
       "      <td>207743</td>\n",
       "      <td>91257</td>\n",
       "    </tr>\n",
       "  </tbody>\n",
       "</table>\n",
       "</div>"
      ],
      "text/plain": [
       "   ps_ind_06_bin  ps_ind_07_bin  ps_ind_08_bin  ps_ind_09_bin  ps_ind_10_bin  \\\n",
       "0         360852         442223         497644         484917         594990   \n",
       "1         234360         152989          97568         110295            222   \n",
       "\n",
       "   ps_ind_11_bin  ps_ind_12_bin  ps_ind_13_bin  ps_ind_16_bin  ps_ind_17_bin  \\\n",
       "0         594205         589594         594648         201882         523143   \n",
       "1           1007           5618            564         393330          72069   \n",
       "\n",
       "   ps_ind_18_bin  ps_calc_15_bin  ps_calc_16_bin  ps_calc_17_bin  \\\n",
       "0         503879          522342          221514          265356   \n",
       "1          91333           72870          373698          329856   \n",
       "\n",
       "   ps_calc_18_bin  ps_calc_19_bin  ps_calc_20_bin  \n",
       "0          424278          387469          503955  \n",
       "1          170934          207743           91257  "
      ]
     },
     "execution_count": 14,
     "metadata": {},
     "output_type": "execute_result"
    }
   ],
   "source": [
    "bin_value_counts"
   ]
  },
  {
   "cell_type": "code",
   "execution_count": 15,
   "metadata": {
    "colab": {
     "base_uri": "https://localhost:8080/",
     "height": 351
    },
    "colab_type": "code",
    "executionInfo": {
     "elapsed": 1027,
     "status": "ok",
     "timestamp": 1567922131671,
     "user": {
      "displayName": "Tung Do Nguyen Thanh",
      "photoUrl": "",
      "userId": "12000981998058526005"
     },
     "user_tz": -420
    },
    "id": "4Qhu0CBebmAn",
    "outputId": "dcb136d4-f627-4c02-9365-81806903828a"
   },
   "outputs": [
    {
     "data": {
      "text/plain": [
       "<matplotlib.axes._subplots.AxesSubplot at 0x12555a110>"
      ]
     },
     "execution_count": 15,
     "metadata": {},
     "output_type": "execute_result"
    },
    {
     "data": {
      "image/png": "[encoded data removed]",
      "text/plain": [
       "<Figure size 432x288 with 1 Axes>"
      ]
     },
     "metadata": {
      "needs_background": "light"
     },
     "output_type": "display_data"
    }
   ],
   "source": [
    "# hint pandas plot.bar with stacked=True\n",
    "# Your code here\n",
    "bin_value_counts.T.plot.bar(stacked=True)"
   ]
  },
  {
   "cell_type": "markdown",
   "metadata": {
    "colab_type": "text",
    "id": "cHwoficZbmAp"
   },
   "source": [
    "Those columns ps_ind_10_bin, ps_ind_11_bin, ps_ind_12_bin, ps_ind_13_bin which are completely dominated by zeros. They do not contain much information."
   ]
  },
  {
   "cell_type": "markdown",
   "metadata": {
    "colab_type": "text",
    "id": "R71w-YnpbmAp"
   },
   "source": [
    "## 3. Preprocess Data"
   ]
  },
  {
   "cell_type": "code",
   "execution_count": 16,
   "metadata": {
    "colab": {},
    "colab_type": "code",
    "id": "7gJwM91UbmAr"
   },
   "outputs": [],
   "source": [
    "# Import train_test_split \n",
    "# Your code here\n",
    "from sklearn.model_selection import train_test_split"
   ]
  },
  {
   "cell_type": "code",
   "execution_count": 17,
   "metadata": {
    "colab": {},
    "colab_type": "code",
    "id": "0yKMYqV8bmAt"
   },
   "outputs": [],
   "source": [
    "# Define X (features), y (target)\n",
    "X = train.drop(columns=['id','target'])\n",
    "y = train['target']# Your code here"
   ]
  },
  {
   "cell_type": "code",
   "execution_count": 18,
   "metadata": {
    "colab": {},
    "colab_type": "code",
    "id": "FGYoswGfbmAw"
   },
   "outputs": [],
   "source": [
    "# Split data into train and test set\n",
    "X_train, X_test, y_train, y_test = train_test_split(X, y, test_size=0.3, random_state=101)"
   ]
  },
  {
   "cell_type": "markdown",
   "metadata": {
    "colab_type": "text",
    "id": "t1unuS0abmA2"
   },
   "source": [
    "#### Randomly Under-Sampling the Training Dataset¶\n",
    "**Note:** Validate ratio between 2 class after Under-Sampling"
   ]
  },
  {
   "cell_type": "code",
   "execution_count": 19,
   "metadata": {
    "colab": {
     "base_uri": "https://localhost:8080/",
     "height": 334
    },
    "colab_type": "code",
    "executionInfo": {
     "elapsed": 1322,
     "status": "ok",
     "timestamp": 1567922154010,
     "user": {
      "displayName": "Tung Do Nguyen Thanh",
      "photoUrl": "",
      "userId": "12000981998058526005"
     },
     "user_tz": -420
    },
    "id": "BLev0Do7bmA3",
    "outputId": "18f4c817-f000-4f3a-da54-0994482f9104"
   },
   "outputs": [
    {
     "name": "stdout",
     "output_type": "stream",
     "text": [
      "Percentage of normal transactions:  0.5\n",
      "Percentage of target transactions:  0.5\n",
      "Total number of transactions in resampled data:  7288\n"
     ]
    },
    {
     "data": {
      "image/png": "[encoded data removed]",
      "text/plain": [
       "<Figure size 432x288 with 1 Axes>"
      ]
     },
     "metadata": {
      "needs_background": "light"
     },
     "output_type": "display_data"
    }
   ],
   "source": [
    "# Your code here\n",
    "percentage_target = (train['target'] == 1).sum() / train.shape[0] * 100\n",
    "percentage_no_target = (train['target'] == 0).sum() / train.shape[0] * 100\n",
    "nOf_instances = 100000\n",
    "nSub_target = int (percentage_target/100 * nOf_instances)\n",
    "nSub_non_target = int (percentage_no_target/100 * nOf_instances)\n",
    "\n",
    "training_data = pd.concat([X_train,y_train],axis = 1)\n",
    "sub_target_data = training_data[training_data['target'] == 1].head(nSub_target)\n",
    "sub_non_target_data = training_data[training_data['target'] == 0].head(nSub_non_target)\n",
    "sub_training_data = pd.concat ([sub_target_data, sub_non_target_data], axis = 0)\n",
    "target_data = sub_training_data[sub_training_data['target'] == 1]\n",
    "non_target_data = sub_training_data[sub_training_data['target'] == 0]\n",
    "\n",
    "nRows_target = target_data.shape[0]\n",
    "nRows_non_fraud = non_target_data.shape[0]\n",
    "\n",
    "under_sample_non_target = non_target_data.sample(nRows_target)\n",
    "under_sample_data = pd.concat([under_sample_non_target, target_data], axis=0)\n",
    "print(\"Percentage of normal transactions: \", under_sample_non_target.shape[0] / under_sample_data.shape[0])\n",
    "print(\"Percentage of target transactions: \", target_data.shape[0] / under_sample_data.shape[0])\n",
    "print(\"Total number of transactions in resampled data: \", under_sample_data.shape[0])\n",
    "\n",
    "\n",
    "X_train_undersample = under_sample_data.drop(columns=['target'])\n",
    "y_train_undersample = under_sample_data['target']\n",
    "\n",
    "sns.countplot(data=under_sample_data, x='target')\n",
    "plt.show()"
   ]
  },
  {
   "cell_type": "markdown",
   "metadata": {
    "colab_type": "text",
    "id": "tbucg4ssbmA4"
   },
   "source": [
    "#### Randomly Over-Sampling the Training Dataset\n",
    "**Note:** Validate ratio between 2 class after Over-Sampling"
   ]
  },
  {
   "cell_type": "code",
   "execution_count": 20,
   "metadata": {
    "colab": {
     "base_uri": "https://localhost:8080/",
     "height": 497
    },
    "colab_type": "code",
    "executionInfo": {
     "elapsed": 1006,
     "status": "ok",
     "timestamp": 1567922172021,
     "user": {
      "displayName": "Tung Do Nguyen Thanh",
      "photoUrl": "",
      "userId": "12000981998058526005"
     },
     "user_tz": -420
    },
    "id": "g4iYvZXzbmA5",
    "outputId": "4d72ebaf-160c-4d33-e1fd-8ca625ff5fdd"
   },
   "outputs": [
    {
     "name": "stdout",
     "output_type": "stream",
     "text": [
      "Percentage of normal transactions:  0.5\n",
      "Percentage of target transactions:  0.018909241866016294\n",
      "Total number of transactions in resampled data:  192710\n"
     ]
    },
    {
     "data": {
      "image/png": "[encoded data removed]",
      "text/plain": [
       "<Figure size 504x504 with 1 Axes>"
      ]
     },
     "metadata": {
      "needs_background": "light"
     },
     "output_type": "display_data"
    }
   ],
   "source": [
    "target_data = sub_training_data[sub_training_data['target'] == 1]\n",
    "non_target_data = sub_training_data[sub_training_data['target'] == 0]\n",
    "\n",
    "nRows_target = target_data.shape[0]\n",
    "nRows_non_target = non_target_data.shape[0]\n",
    "\n",
    "over_sample_target = target_data.sample(replace = True, n=nRows_non_target)\n",
    "over_sample_data = pd.concat([over_sample_target, non_target_data], axis=0)\n",
    "\n",
    "\n",
    "print(\"Percentage of normal transactions: \", non_target_data.shape[0]/over_sample_data.shape[0])\n",
    "print(\"Percentage of target transactions: \", target_data.shape[0]/over_sample_data.shape[0])\n",
    "print(\"Total number of transactions in resampled data: \", over_sample_data.shape[0])\n",
    "\n",
    "# Assigning X, y for over-sampled dataset\n",
    "X_train_oversample = over_sample_data.drop(columns=['target'])\n",
    "y_train_oversample = over_sample_data['target']\n",
    "\n",
    "# Plot countplot\n",
    "plt.figure(figsize=(7,7))\n",
    "\n",
    "sns.countplot(data=over_sample_data, x='target')\n",
    "plt.show()"
   ]
  },
  {
   "cell_type": "markdown",
   "metadata": {
    "colab_type": "text",
    "id": "l6KDj-y_bmA7"
   },
   "source": [
    "## 4. Modeling"
   ]
  },
  {
   "cell_type": "code",
   "execution_count": 21,
   "metadata": {
    "colab": {},
    "colab_type": "code",
    "id": "PWdhnYalbmA7"
   },
   "outputs": [],
   "source": [
    "# Spot check with LogisticRegression, DecisionTreeClassifier, RandomForestClassifier, BernoulliNB, GaussianNB\n",
    "# Import libraries and and create model\n",
    "# Your code here\n",
    "from sklearn.linear_model import LogisticRegression\n",
    "from sklearn.tree import DecisionTreeClassifier\n",
    "from sklearn.ensemble import RandomForestClassifier\n",
    "from sklearn.svm import SVC, LinearSVC\n",
    "from sklearn.naive_bayes import GaussianNB\n",
    "from sklearn.naive_bayes import BernoulliNB\n",
    "\n",
    "\n",
    "lr = LogisticRegression()\n",
    "dtc = DecisionTreeClassifier()\n",
    "rfc = RandomForestClassifier()\n",
    "bnb = BernoulliNB()\n",
    "gnb = GaussianNB()\n",
    "svm = LinearSVC()\n",
    "\n",
    "models = [lr, dtc, rfc, gnb, bnb]\n",
    "models_name = [\"Logistic Regression\", \"Decision Tree\", \"Random Forest\", \"Bernoulli NB\", \"Gaussian NB\"]"
   ]
  },
  {
   "cell_type": "markdown",
   "metadata": {
    "colab_type": "text",
    "id": "vkbgaWNObmA9"
   },
   "source": [
    "## 5. Evaluation Metrics"
   ]
  },
  {
   "cell_type": "code",
   "execution_count": 22,
   "metadata": {
    "colab": {},
    "colab_type": "code",
    "id": "hfbWeCk_bmA-"
   },
   "outputs": [],
   "source": [
    "# Import confusion_matrix, classification_report\n",
    "# Your code here\n",
    "from sklearn.metrics import classification_report, confusion_matrix\n",
    "from sklearn.metrics import recall_score, precision_score\n",
    "\n",
    "# We create an utils function, that take a trained model as argument and print out confusion matrix\n",
    "# classification report base on X and y\n",
    "def evaluate_model(estimator, X, y,description):\n",
    "    # Your code here\n",
    "    prediction = estimator.predict(X)\n",
    "    np.set_printoptions(precision=2)\n",
    "    model_name = type(estimator).__name__\n",
    "    return {'name': model_name, \n",
    "            'recall': recall_score(y, prediction),\n",
    "            'precision': precision_score(y, prediction),\n",
    "           'description': description}"
   ]
  },
  {
   "cell_type": "markdown",
   "metadata": {
    "colab_type": "text",
    "id": "x-E-NGHNbmA_"
   },
   "source": [
    "### Evaluate with Origin dataset"
   ]
  },
  {
   "cell_type": "code",
   "execution_count": 23,
   "metadata": {
    "colab": {
     "base_uri": "https://localhost:8080/",
     "height": 185
    },
    "colab_type": "code",
    "executionInfo": {
     "elapsed": 13530,
     "status": "ok",
     "timestamp": 1567922197661,
     "user": {
      "displayName": "Tung Do Nguyen Thanh",
      "photoUrl": "",
      "userId": "12000981998058526005"
     },
     "user_tz": -420
    },
    "id": "geUSF9EdbmBA",
    "outputId": "3f8de1ba-0742-43c2-c601-9b186242096b"
   },
   "outputs": [
    {
     "name": "stdout",
     "output_type": "stream",
     "text": [
      "Model: Logistic Regression\n",
      "=======================================\n",
      "Model: Decision Tree\n",
      "=======================================\n",
      "Model: Random Forest\n",
      "=======================================\n",
      "Model: Bernoulli NB\n",
      "=======================================\n",
      "Model: Gaussian NB\n",
      "=======================================\n"
     ]
    }
   ],
   "source": [
    "X_train_sub = sub_training_data.drop(columns='target')\n",
    "y_train_sub = sub_training_data['target']\n",
    "scores_origin = []\n",
    "for idx, model in enumerate(models):\n",
    "    print(\"Model: {}\".format(models_name[idx]))\n",
    "    # Your code here\n",
    "    model.fit(X_train_sub, y_train_sub)\n",
    "    scores_origin.append(evaluate_model(model, X_test, y_test, 'origin'))\n",
    "    \n",
    "    print(\"=======================================\")"
   ]
  },
  {
   "cell_type": "markdown",
   "metadata": {
    "colab_type": "text",
    "id": "y5HwGx33bmBB"
   },
   "source": [
    "### Evaluate with *Undersampled* dataset"
   ]
  },
  {
   "cell_type": "code",
   "execution_count": 24,
   "metadata": {
    "colab": {
     "base_uri": "https://localhost:8080/",
     "height": 185
    },
    "colab_type": "code",
    "executionInfo": {
     "elapsed": 3038,
     "status": "ok",
     "timestamp": 1567922203784,
     "user": {
      "displayName": "Tung Do Nguyen Thanh",
      "photoUrl": "",
      "userId": "12000981998058526005"
     },
     "user_tz": -420
    },
    "id": "mwSm4rwpbmBC",
    "outputId": "60978e5a-503b-45ca-d3f2-020de86d306f"
   },
   "outputs": [
    {
     "name": "stdout",
     "output_type": "stream",
     "text": [
      "Model: Logistic Regression\n",
      "=======================================\n",
      "Model: Decision Tree\n",
      "=======================================\n",
      "Model: Random Forest\n",
      "=======================================\n",
      "Model: Bernoulli NB\n",
      "=======================================\n",
      "Model: Gaussian NB\n",
      "=======================================\n"
     ]
    }
   ],
   "source": [
    "scores_under = []\n",
    "for idx, model in enumerate(models):\n",
    "    print(\"Model: {}\".format(models_name[idx]))\n",
    "    # Your code here\n",
    "    # Fit your model with Undersampled dataset\n",
    "    model.fit(X_train_undersample, y_train_undersample)\n",
    "    scores_under.append(evaluate_model(model, X_test, y_test, 'under'))\n",
    "    # Evaluate model with X_test, y_test\n",
    "    print(\"=======================================\")"
   ]
  },
  {
   "cell_type": "markdown",
   "metadata": {
    "colab_type": "text",
    "id": "qbWCCjckbmBF"
   },
   "source": [
    "### Evaluate with *Oversampled* dataset"
   ]
  },
  {
   "cell_type": "code",
   "execution_count": 25,
   "metadata": {
    "colab": {
     "base_uri": "https://localhost:8080/",
     "height": 185
    },
    "colab_type": "code",
    "executionInfo": {
     "elapsed": 23215,
     "status": "ok",
     "timestamp": 1567922228582,
     "user": {
      "displayName": "Tung Do Nguyen Thanh",
      "photoUrl": "",
      "userId": "12000981998058526005"
     },
     "user_tz": -420
    },
    "id": "HG3yFJmxbmBF",
    "outputId": "f2ac82ba-58e9-4409-f5dc-e4c80d03d0d1"
   },
   "outputs": [
    {
     "name": "stdout",
     "output_type": "stream",
     "text": [
      "Model: Logistic Regression\n",
      "=======================================\n",
      "Model: Decision Tree\n",
      "=======================================\n",
      "Model: Random Forest\n",
      "=======================================\n",
      "Model: Bernoulli NB\n",
      "=======================================\n",
      "Model: Gaussian NB\n",
      "=======================================\n"
     ]
    }
   ],
   "source": [
    "scores_over = []\n",
    "for idx, model in enumerate(models):\n",
    "    print(\"Model: {}\".format(models_name[idx]))\n",
    "    # Your code here\n",
    "    # Fit your model with Oversampled dataset\n",
    "    model.fit(X_train_oversample, y_train_oversample)\n",
    "    scores_over.append(evaluate_model(model, X_test, y_test, 'oversample'))\n",
    "    # Evaluate model with X_test, y_test\n",
    "    print(\"=======================================\")"
   ]
  },
  {
   "cell_type": "markdown",
   "metadata": {
    "colab_type": "text",
    "id": "1revoqTrbmBH"
   },
   "source": [
    "### Conclusion"
   ]
  },
  {
   "cell_type": "markdown",
   "metadata": {
    "colab_type": "text",
    "id": "OGhAkhEsbmBI"
   },
   "source": [
    "Which model has lowest/highest accuracy?\n",
    "Which model has lowest/highest recall?\n",
    "Which model has lowest/highest f1?"
   ]
  },
  {
   "cell_type": "markdown",
   "metadata": {
    "colab_type": "text",
    "id": "z-s_zVeMbmBJ"
   },
   "source": [
    "## 6. GridsearchCV"
   ]
  },
  {
   "cell_type": "code",
   "execution_count": 26,
   "metadata": {
    "colab": {},
    "colab_type": "code",
    "id": "lmuroaQqbmBJ"
   },
   "outputs": [],
   "source": [
    "# Using gridsearchcv, random forest model and this param grid to find the best combination of parameters \n",
    "# Hint: example\n",
    "# https://stackoverflow.com/questions/30102973/how-to-get-best-estimator-on-gridsearchcv-random-forest-classifier-scikit\n",
    "\n",
    "param_grid = {\n",
    "    'bootstrap': [True],\n",
    "    'max_depth': [80, 90, 100, 110],\n",
    "    'max_features': [2, 3],\n",
    "    'min_samples_leaf': [3, 4, 5],\n",
    "    'min_samples_split': [8, 10, 12],\n",
    "    'n_estimators': [100, 200, 300, 1000]\n",
    "}\n",
    "\n"
   ]
  },
  {
   "cell_type": "markdown",
   "metadata": {
    "colab_type": "text",
    "id": "7PXP2YOlbmBQ"
   },
   "source": [
    "#### which is the best combination of parameter"
   ]
  },
  {
   "cell_type": "code",
   "execution_count": null,
   "metadata": {},
   "outputs": [],
   "source": [
    "# Your code here\n",
    "\n",
    "from sklearn.model_selection import GridSearchCV\n",
    "from sklearn.ensemble import RandomForestClassifier\n",
    "\n",
    "rfc = RandomForestClassifier(n_jobs=-1,max_features= 'sqrt' ,n_estimators=50, oob_score = True) \n",
    "CV_rfc = GridSearchCV(estimator=rfc, param_grid=param_grid, cv= 5)\n",
    "CV_rfc.fit(X, y)\n",
    "print(CV_rfc.best_params_)"
   ]
  },
  {
   "cell_type": "markdown",
   "metadata": {
    "colab_type": "text",
    "id": "vtHfa8JHbmBS"
   },
   "source": [
    "# Done! Great Job."
   ]
  },
  {
   "cell_type": "code",
   "execution_count": null,
   "metadata": {},
   "outputs": [],
   "source": []
  },
  {
   "cell_type": "code",
   "execution_count": null,
   "metadata": {},
   "outputs": [],
   "source": []
  }
 ],
 "metadata": {
  "colab": {
   "collapsed_sections": [],
   "name": "Porto_safe_driver.ipynb",
   "provenance": [],
   "toc_visible": true,
   "version": "0.3.2"
  },
  "kernelspec": {
   "display_name": "Python 3",
   "language": "python",
   "name": "python3"
  },
  "language_info": {
   "codemirror_mode": {
    "name": "ipython",
    "version": 3
   },
   "file_extension": ".py",
   "mimetype": "text/x-python",
   "name": "python",
   "nbconvert_exporter": "python",
   "pygments_lexer": "ipython3",
   "version": "3.7.4"
  }
 },
 "nbformat": 4,
 "nbformat_minor": 1
}
