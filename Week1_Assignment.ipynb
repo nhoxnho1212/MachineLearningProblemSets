{
 "cells": [
  {
   "cell_type": "markdown",
   "metadata": {},
   "source": [
    "# python\n",
    "\n",
    "#### problem 1: Python If-Else\n",
    "**Task** \n",
    "Given an integer, , perform the following conditional actions:\n",
    "\n",
    "If  is odd, print Weird\n",
    "If  is even and in the inclusive range of  to , print Not Weird\n",
    "If  is even and in the inclusive range of  to , print Weird\n",
    "If  is even and greater than , print Not Weird\n",
    "**Input Format**\n",
    "\n",
    "A single line containing a positive integer, .\n",
    "\n",
    "Constraints\n",
    "\n",
    "**Output Format**\n",
    "\n",
    "Print Weird if the number is weird; otherwise, print Not Weird."
   ]
  },
  {
   "cell_type": "code",
   "execution_count": 1,
   "metadata": {
    "collapsed": true
   },
   "outputs": [
    {
     "name": "stdout",
     "output_type": "stream",
     "text": [
      "3\n",
      "Weird\n"
     ]
    }
   ],
   "source": [
    "n=int(input())\n",
    "if n%2==0 :\n",
    "    if n in range(2,5):\n",
    "        print( \"Not Weird\")\n",
    "    elif n in range(6,21):\n",
    "        print(\"Weird\")\n",
    "    elif n>20 :\n",
    "        print(\"Not Weird\")\n",
    "else:\n",
    "    print(\"Weird\")"
   ]
  },
  {
   "cell_type": "markdown",
   "metadata": {},
   "source": [
    "#### problem 2: Arithmetic Operators\n",
    "\n",
    "**Task** \n",
    "Read two integers from STDIN and print three lines where:\n",
    "\n",
    "The first line contains the sum of the two numbers.\n",
    "The second line contains the difference of the two numbers (first - second).\n",
    "The third line contains the product of the two numbers.\n",
    "**Input Format**\n",
    "\n",
    "The first line contains the first integer, a. The second line contains the second integer, b.\n",
    "\n",
    "**Constraints**\n",
    "\n",
    " 1<=a<=10^10\n",
    " \n",
    " 1<=b<=10^10\n",
    "\n",
    "**Output Format**\n",
    "\n",
    "Print the three lines as explained above."
   ]
  },
  {
   "cell_type": "code",
   "execution_count": null,
   "metadata": {},
   "outputs": [],
   "source": [
    "if __name__ == '__main__':\n",
    "\n",
    "    NumberFirst=int(input())\n",
    "    NumberSecond=int(input())\n",
    "\n",
    "    print (NumberFirst+NumberSecond)\n",
    "    print (NumberFirst-NumberSecond)\n",
    "    print (NumberFirst*NumberSecond)"
   ]
  },
  {
   "cell_type": "markdown",
   "metadata": {},
   "source": [
    "#### problem 3: Division\n",
    "**Task** \n",
    "Read two integers and print two lines. The first line should contain integer division, a //b . The second line should contain float division,  a/ b.\n",
    "\n",
    "You don't need to perform any rounding or formatting operations.\n",
    "\n",
    "**Input Format**\n",
    "\n",
    "The first line contains the first integer,a . The second line contains the second integer,b .\n",
    "\n",
    "**Output Format**\n",
    "\n",
    "Print the two lines as described above."
   ]
  },
  {
   "cell_type": "code",
   "execution_count": null,
   "metadata": {},
   "outputs": [],
   "source": [
    "from __future__ import division\n",
    "\n",
    "if __name__ == '__main__':\n",
    "    NumberFirst=int(raw_input())\n",
    "    NumberSecond=int(raw_input())\n",
    "    \n",
    "    print (NumberFirst%NumberSecond)\n",
    "    print (NumberFirst/NumberSecond)\n"
   ]
  },
  {
   "cell_type": "markdown",
   "metadata": {},
   "source": [
    "#### problem 4: Loops\n",
    "**Task** \n",
    "Read an integer N . For all non-negative integers i <N, print i^2. See the sample for details.\n",
    "\n",
    "Input Format\n",
    "\n",
    "The first and only line contains the integer, N.\n",
    "\n",
    "**Constraints**\n",
    "1<=N<=20\n",
    "\n",
    "**Output Format**\n",
    "\n",
    "Print  lines, one corresponding to each ."
   ]
  },
  {
   "cell_type": "code",
   "execution_count": null,
   "metadata": {},
   "outputs": [],
   "source": [
    "if __name__ == '__main__':\n",
    "    n = int(raw_input())\n",
    "    for x in range(0,n):\n",
    "        print(x*x)\n"
   ]
  },
  {
   "cell_type": "markdown",
   "metadata": {},
   "source": [
    "**problem 5: Print Function**\n",
    "\n",
    "Read an integer N.\n",
    "\n",
    "Without using any string methods, try to print the following:\n",
    "123...N\n",
    "Note that \"\" represents the values in between.\n",
    "\n",
    "**Input Format**\n",
    "\n",
    "The first line contains an integer N.\n",
    "\n",
    "**Output Format**\n",
    "\n",
    "Output the answer as explained in the task."
   ]
  },
  {
   "cell_type": "code",
   "execution_count": null,
   "metadata": {},
   "outputs": [],
   "source": [
    "if __name__ == '__main__':\n",
    "    n = int(input())\n",
    "\n",
    "def printN(n):\n",
    "    st=str()\n",
    "    for i in range(1,n+1):\n",
    "        st+=str(i)\n",
    "    return st\n",
    "\n",
    "print(printN(n))"
   ]
  },
  {
   "cell_type": "markdown",
   "metadata": {},
   "source": [
    "# SQL \n",
    "\n",
    "**STATION**\n",
    "\n",
    "Field | Type\n",
    "------------ | -------------\n",
    "ID | NUMBER\n",
    "CITY | VARCHAR2(21)\n",
    "STATE | VARCHAR2(2)\n",
    "LAT_N | NUMBER\n",
    "LONG_w | NUMBER\n",
    "\n"
   ]
  },
  {
   "cell_type": "markdown",
   "metadata": {},
   "source": [
    "#### problem 1: Weather Observation Station 1\n",
    "\n",
    "Query a list of CITY and STATE from the STATION table.\n"
   ]
  },
  {
   "cell_type": "code",
   "execution_count": null,
   "metadata": {},
   "outputs": [],
   "source": [
    "SELECT CITY,STATE FROM STATION;"
   ]
  },
  {
   "cell_type": "markdown",
   "metadata": {},
   "source": [
    "#### problem 2: Weather Observation Station 3\n",
    "\n",
    "Query a list of CITY names from STATION with even ID numbers only. You may print the results in any order, but must exclude duplicates from your answer."
   ]
  },
  {
   "cell_type": "code",
   "execution_count": null,
   "metadata": {},
   "outputs": [],
   "source": [
    "SELECT DISTINCT CITY FROM STATION WHERE MOD(ID,2)=0 ORDER BY CITY;"
   ]
  },
  {
   "cell_type": "markdown",
   "metadata": {},
   "source": [
    "#### problem 3: Weather Observation Station 4\n",
    "\n",
    "Let N be the number of CITY entries in STATION, and let N' be the number of distinct CITY names in STATION; query the value of N-N' from STATION. In other words, find the difference between the total number of CITY entries in the table and the number of distinct CITY entries in the table."
   ]
  },
  {
   "cell_type": "code",
   "execution_count": null,
   "metadata": {},
   "outputs": [],
   "source": [
    "SELECT (COUNT(CITY) - COUNT(DISTINCT CITY))\n",
    "FROM STATION;"
   ]
  },
  {
   "cell_type": "markdown",
   "metadata": {},
   "source": [
    "#### problem 4: Weather Observation Station 5\n",
    "\n",
    "Query the two cities in STATION with the shortest and longest CITY names, as well as their respective lengths (i.e.: number of characters in the name). If there is more than one smallest or largest city, choose the one that comes first when ordered alphabetically."
   ]
  },
  {
   "cell_type": "code",
   "execution_count": null,
   "metadata": {},
   "outputs": [],
   "source": [
    "SELECT CITY, LENGTH(CITY)\n",
    "FROM STATION\n",
    "WHERE (LENGTH(CITY) in ( SELECT MIN(LENGTH(CITY))\n",
    "                         FROM STATION)) \n",
    "ORDER BY CITY\n",
    "LIMIT 1;\n",
    "SELECT CITY, LENGTH(CITY)\n",
    "FROM STATION\n",
    "WHERE (LENGTH(CITY) in ( SELECT MAX(LENGTH(CITY))\n",
    "                         FROM STATION)) \n",
    "ORDER BY CITY\n",
    "LIMIT 1;                                           "
   ]
  },
  {
   "cell_type": "markdown",
   "metadata": {},
   "source": [
    "#### problem 5: Weather Observation Station 6\n",
    "\n",
    "Query the list of CITY names starting with vowels (i.e., a, e, i, o, or u) from STATION. Your result cannot contain duplicates."
   ]
  },
  {
   "cell_type": "code",
   "execution_count": null,
   "metadata": {},
   "outputs": [],
   "source": [
    "SELECT CITY \n",
    "FROM STATION\n",
    "WHERE CITY REGEXP '^a|^e|^i|^o|^u';"
   ]
  },
  {
   "cell_type": "markdown",
   "metadata": {},
   "source": [
    "#### problem 6: Weather Observation Station 7\n",
    "\n",
    "Query the list of CITY names ending with vowels (a, e, i, o, u) from STATION. Your result cannot contain duplicates."
   ]
  },
  {
   "cell_type": "code",
   "execution_count": null,
   "metadata": {},
   "outputs": [],
   "source": [
    "SELECT distinct CITY \n",
    "FROM STATION\n",
    "where CITY REGEXP 'a$|e$|o$|u$|i$'\n",
    "ORDER BY CITY;"
   ]
  },
  {
   "cell_type": "markdown",
   "metadata": {},
   "source": [
    "#### problem 7: Weather Observation Station 8\n",
    "\n",
    "Query the list of CITY names from STATION which have vowels (i.e., a, e, i, o, and u) as both their first and last characters. Your result cannot contain duplicates."
   ]
  },
  {
   "cell_type": "code",
   "execution_count": null,
   "metadata": {},
   "outputs": [],
   "source": [
    "SELECT DISTINCT CITY\n",
    "FROM STATION\n",
    "WHERE (CITY REGEXP '^[aoueiAOUEI]') and (CITY REGEXP '[aoueiAOUEI]$')\n",
    "order by CITY;\n"
   ]
  },
  {
   "cell_type": "markdown",
   "metadata": {},
   "source": [
    "#### problem 8: Weather Observation Station 9\n",
    "\n",
    "Query the list of CITY names from STATION that do not start with vowels. Your result cannot contain duplicates."
   ]
  },
  {
   "cell_type": "code",
   "execution_count": null,
   "metadata": {},
   "outputs": [],
   "source": [
    "SELECT DISTINCT CITY\n",
    "FROM STATION\n",
    "WHERE (CITY REGEXP '^[^aoueiAOUEI]')\n",
    "order by CITY;\n"
   ]
  },
  {
   "cell_type": "markdown",
   "metadata": {},
   "source": [
    "#### problem 9: Weather Observation Station 10\n",
    "\n",
    "Query the list of CITY names from STATION that do not end with vowels. Your result cannot contain duplicates."
   ]
  },
  {
   "cell_type": "code",
   "execution_count": null,
   "metadata": {},
   "outputs": [],
   "source": [
    "SELECT DISTINCT CITY\n",
    "FROM STATION\n",
    "WHERE (CITY REGEXP '[^aoueiAOUEI]$')\n",
    "order by CITY;"
   ]
  },
  {
   "cell_type": "markdown",
   "metadata": {},
   "source": [
    "#### problem 10: Weather Observation Station 11\n",
    "\n",
    "Query the list of CITY names from STATION that either do not start with vowels or do not end with vowels. Your result cannot contain duplicates.\n"
   ]
  },
  {
   "cell_type": "code",
   "execution_count": null,
   "metadata": {},
   "outputs": [],
   "source": [
    "SELECT DISTINCT CITY\n",
    "FROM STATION\n",
    "WHERE (CITY REGEXP '^[^aoueiAOUEI]|[^aoueiAOUEI]$')\n",
    "order by CITY;"
   ]
  }
 ],
 "metadata": {
  "kernelspec": {
   "display_name": "Python 3",
   "language": "python",
   "name": "python3"
  },
  "language_info": {
   "codemirror_mode": {
    "name": "ipython",
    "version": 3
   },
   "file_extension": ".py",
   "mimetype": "text/x-python",
   "name": "python",
   "nbconvert_exporter": "python",
   "pygments_lexer": "ipython3",
   "version": "3.7.3"
  }
 },
 "nbformat": 4,
 "nbformat_minor": 2
}
